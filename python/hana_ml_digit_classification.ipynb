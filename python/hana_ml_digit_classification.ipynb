{
 "cells": [
  {
   "cell_type": "markdown",
   "metadata": {},
   "source": [
    "\n",
    "# HANA Python ML : Recognizing hand-written digits\n",
    "\n",
    "\n",
    "An example showing how the scikit-learn can be used to recognize images of\n",
    "hand-written digits.\n",
    "\n",
    "This example is commented in the\n",
    "`tutorial section of the user manual <introduction>`.\n",
    "\n",
    "\n"
   ]
  },
  {
   "cell_type": "code",
   "execution_count": 1,
   "metadata": {},
   "outputs": [],
   "source": [
    "%matplotlib inline"
   ]
  },
  {
   "cell_type": "code",
   "execution_count": 2,
   "metadata": {
    "scrolled": true
   },
   "outputs": [
    {
     "name": "stdout",
     "output_type": "stream",
     "text": [
      "Automatically created module for IPython interactive environment\n"
     ]
    }
   ],
   "source": [
    "print(__doc__)\n",
    "\n",
    "# Author: Gael Varoquaux <gael dot varoquaux at normalesup dot org>\n",
    "# License: BSD 3 clause"
   ]
  },
  {
   "cell_type": "markdown",
   "metadata": {},
   "source": [
    "Converting this example to HANA Python ML.\n",
    "Original example can be found at [Recognizing hand-written digits](http://scikit-learn.org/stable/auto_examples/classification/plot_digits_classification.html#sphx-glr-auto-examples-classification-plot-digits-classification-py)"
   ]
  },
  {
   "cell_type": "code",
   "execution_count": 3,
   "metadata": {},
   "outputs": [],
   "source": [
    "# Author: Andrew Lunde <andrew dot lunde at sap dot com>\n",
    "# License: "
   ]
  },
  {
   "cell_type": "markdown",
   "metadata": {},
   "source": [
    "Use the following to get the VCAP_SERVICES environment variable from xs/cf\n",
    "\n",
    "```\n",
    "xs env python-ml.db --export-json /dev/stdout 2>/dev/null | tail -n +5 | jq -r '.VCAP_SERVICES'\n",
    "```"
   ]
  },
  {
   "cell_type": "markdown",
   "metadata": {},
   "source": [
    "Cut the contents from the console and paste the here between the ''' chars."
   ]
  },
  {
   "cell_type": "code",
   "execution_count": 4,
   "metadata": {},
   "outputs": [],
   "source": [
    "vcapsvcs_str = '''\n",
    "{\n",
    "    \"xsuaa\" : [ {\n",
    "      \"name\" : \"python-ml-uaa\",\n",
    "      \"label\" : \"xsuaa\",\n",
    "      \"tags\" : [ \"xsuaa\" ],\n",
    "      \"plan\" : \"default\",\n",
    "      \"credentials\" : {\n",
    "        \"tenantmode\" : \"dedicated\",\n",
    "        \"clientid\" : \"sb-na-193ff3e7-922d-4068-969d-1b0f53aa7951\",\n",
    "        \"verificationkey\" : \"-----BEGIN PUBLIC KEY-----MIIBIjANBgkqhkiG9w0BAQEFAAOCAQ8AMIIBCgKCAQEAsYtDBo6f+SHpxVJ+2fwnIVdSzrbuoP6lFYRfZ29soZ0XSw51IHoa3ew4t8Ep7d15ua3r7ZZCf3wteGkSO+0QdcJwak0lAEygdD9uVlANLZmu9jZMKmOcn/65XDyn++YJWQt2o5AS6Kz4XLQGSOVReQbfchcMiqJhebCtEAFTb0oYtxYjGY4dWqGnJFpv2iL/oRs304JGogaxz7cUzQiUkLDK6/elsbWAtvu+H6R1vitt/EEsHkYh3+/V5/Rf3+G16IKxIFQxIwZOR5pk1CMll1inm/Ya7Z2n5nrxs5vglyuV0oThqWxKEtNQGPG6990hOnHoMYu8JXPshL07HreIkwIDAQAB-----END PUBLIC KEY-----\",\n",
    "        \"xsappname\" : \"na-193ff3e7-922d-4068-969d-1b0f53aa7951\",\n",
    "        \"identityzone\" : \"uaa\",\n",
    "        \"identityzoneid\" : \"uaa\",\n",
    "        \"clientsecret\" : \"m63m25atIbQs27NnuOFoqeKqDhGxTxjvQW4m52hfSxDlJPuBrQQSaZQ6QPqpyE0jtzLorajiqTv0\\nVTCiddMUMw==\",\n",
    "        \"url\" : \"https://hxehost:39032/uaa-security\"\n",
    "      }\n",
    "    } ],\n",
    "    \"hana\" : [ {\n",
    "      \"name\" : \"python-ml-hdi\",\n",
    "      \"label\" : \"hana\",\n",
    "      \"tags\" : [ \"hana\", \"database\", \"relational\" ],\n",
    "      \"plan\" : \"hdi-shared\",\n",
    "      \"credentials\" : {\n",
    "        \"schema\" : \"E4BA032547384A4C82CC3460445F2AA2\",\n",
    "        \"hdi_password\" : \"Sj2Ueol9Gk7BsgH3V1atnjjuuQnrBv97drkIJJwxGb_n9.lGp_ZiWMpzIBxD7skg95GF1I5FMkYtGiNKc52HUn2pevT2tkzvjVJZOENG_6oS6eou8MDbSIE.ob8Ki9Pw\",\n",
    "        \"password\" : \"Sb9x_0U165lN0_YkomXdAI.Qp1P8nauMYrE_mOOK-Xrvc5CPd.LXFH-on3xvW.esSf3SkAJh97B-gSizdght9xnGKTI28G0nEYoJt-N4j12RBqXh0LYoHQBf7aSSXZEl\",\n",
    "        \"driver\" : \"com.sap.db.jdbc.Driver\",\n",
    "        \"port\" : \"39013\",\n",
    "        \"host\" : \"hxehost\",\n",
    "        \"db_hosts\" : [ {\n",
    "          \"port\" : 39013,\n",
    "          \"host\" : \"hxehost\"\n",
    "        } ],\n",
    "        \"hdi_user\" : \"E4BA032547384A4C82CC3460445F2AA2_7E8FB15BT3WE2DB4LGIQ8315K_DT\",\n",
    "        \"user\" : \"E4BA032547384A4C82CC3460445F2AA2_BHLD7OT0V73FGWXWR6IDK0ZDQ_RT\",\n",
    "        \"url\" : \"jdbc:sap://hxehost:39013/?currentschema=E4BA032547384A4C82CC3460445F2AA2\"\n",
    "      }\n",
    "    } ]\n",
    "  }\n",
    "'''"
   ]
  },
  {
   "cell_type": "markdown",
   "metadata": {},
   "source": [
    "Collapse the whitespace of the VCAP_SERVICES json for easier parsing."
   ]
  },
  {
   "cell_type": "code",
   "execution_count": 5,
   "metadata": {},
   "outputs": [],
   "source": [
    "import string\n",
    "vcapsvcs_str = vcapsvcs_str.translate( { ord(c):None for c in ' \\n\\t\\r' } )"
   ]
  },
  {
   "cell_type": "code",
   "execution_count": 6,
   "metadata": {},
   "outputs": [
    {
     "name": "stdout",
     "output_type": "stream",
     "text": [
      "{\"xsuaa\":[{\"name\":\"python-ml-uaa\",\"label\":\"xsuaa\",\"tags\":[\"xsuaa\"],\"plan\":\"default\",\"credentials\":{\"tenantmode\":\"dedicated\",\"clientid\":\"sb-na-193ff3e7-922d-4068-969d-1b0f53aa7951\",\"verificationkey\":\"-----BEGINPUBLICKEY-----MIIBIjANBgkqhkiG9w0BAQEFAAOCAQ8AMIIBCgKCAQEAsYtDBo6f+SHpxVJ+2fwnIVdSzrbuoP6lFYRfZ29soZ0XSw51IHoa3ew4t8Ep7d15ua3r7ZZCf3wteGkSO+0QdcJwak0lAEygdD9uVlANLZmu9jZMKmOcn/65XDyn++YJWQt2o5AS6Kz4XLQGSOVReQbfchcMiqJhebCtEAFTb0oYtxYjGY4dWqGnJFpv2iL/oRs304JGogaxz7cUzQiUkLDK6/elsbWAtvu+H6R1vitt/EEsHkYh3+/V5/Rf3+G16IKxIFQxIwZOR5pk1CMll1inm/Ya7Z2n5nrxs5vglyuV0oThqWxKEtNQGPG6990hOnHoMYu8JXPshL07HreIkwIDAQAB-----ENDPUBLICKEY-----\",\"xsappname\":\"na-193ff3e7-922d-4068-969d-1b0f53aa7951\",\"identityzone\":\"uaa\",\"identityzoneid\":\"uaa\",\"clientsecret\":\"m63m25atIbQs27NnuOFoqeKqDhGxTxjvQW4m52hfSxDlJPuBrQQSaZQ6QPqpyE0jtzLorajiqTv0VTCiddMUMw==\",\"url\":\"https://hxehost:39032/uaa-security\"}}],\"hana\":[{\"name\":\"python-ml-hdi\",\"label\":\"hana\",\"tags\":[\"hana\",\"database\",\"relational\"],\"plan\":\"hdi-shared\",\"credentials\":{\"schema\":\"E4BA032547384A4C82CC3460445F2AA2\",\"hdi_password\":\"Sj2Ueol9Gk7BsgH3V1atnjjuuQnrBv97drkIJJwxGb_n9.lGp_ZiWMpzIBxD7skg95GF1I5FMkYtGiNKc52HUn2pevT2tkzvjVJZOENG_6oS6eou8MDbSIE.ob8Ki9Pw\",\"password\":\"Sb9x_0U165lN0_YkomXdAI.Qp1P8nauMYrE_mOOK-Xrvc5CPd.LXFH-on3xvW.esSf3SkAJh97B-gSizdght9xnGKTI28G0nEYoJt-N4j12RBqXh0LYoHQBf7aSSXZEl\",\"driver\":\"com.sap.db.jdbc.Driver\",\"port\":\"39013\",\"host\":\"hxehost\",\"db_hosts\":[{\"port\":39013,\"host\":\"hxehost\"}],\"hdi_user\":\"E4BA032547384A4C82CC3460445F2AA2_7E8FB15BT3WE2DB4LGIQ8315K_DT\",\"user\":\"E4BA032547384A4C82CC3460445F2AA2_BHLD7OT0V73FGWXWR6IDK0ZDQ_RT\",\"url\":\"jdbc:sap://hxehost:39013/?currentschema=E4BA032547384A4C82CC3460445F2AA2\"}}]}\n"
     ]
    }
   ],
   "source": [
    "#Uncomment to check on things.\n",
    "print(vcapsvcs_str)"
   ]
  },
  {
   "cell_type": "markdown",
   "metadata": {},
   "source": [
    "Inject the contents of VCAP_SERVICES into the environment of this Jupyter Notebook\n",
    "\n",
    "Note: In a deployed XSA or CF app, this would have been accomplished by the deployer and bindings."
   ]
  },
  {
   "cell_type": "code",
   "execution_count": 7,
   "metadata": {},
   "outputs": [],
   "source": [
    "import os\n",
    "os.environ['VCAP_SERVICES'] = vcapsvcs_str"
   ]
  },
  {
   "cell_type": "markdown",
   "metadata": {},
   "source": [
    "Now using the SAP Python libs, pull out the hana section."
   ]
  },
  {
   "cell_type": "code",
   "execution_count": 8,
   "metadata": {},
   "outputs": [],
   "source": [
    "from cfenv import AppEnv\n",
    "env = AppEnv()\n",
    "hana = env.get_service(label='hana')"
   ]
  },
  {
   "cell_type": "markdown",
   "metadata": {},
   "source": [
    "Now read the details out of the scructure into individual variables for convenience."
   ]
  },
  {
   "cell_type": "code",
   "execution_count": 9,
   "metadata": {},
   "outputs": [],
   "source": [
    "schema = hana.credentials['schema']\n",
    "host = hana.credentials['host']\n",
    "port = hana.credentials['port']\n",
    "user = hana.credentials['user']\n",
    "password = hana.credentials['password']"
   ]
  },
  {
   "cell_type": "markdown",
   "metadata": {},
   "source": [
    "Spit the values out just to be sure they make sense.\n",
    "\n",
    "Keep in mind these are the HDI container credentials automatically generated by the system."
   ]
  },
  {
   "cell_type": "code",
   "execution_count": 10,
   "metadata": {},
   "outputs": [
    {
     "name": "stdout",
     "output_type": "stream",
     "text": [
      "Key VCAP_SVCS values.\n",
      "\n",
      "host: hxehost\n",
      "port: 39013\n",
      "schema: E4BA032547384A4C82CC3460445F2AA2\n",
      "user: E4BA032547384A4C82CC3460445F2AA2_BHLD7OT0V73FGWXWR6IDK0ZDQ_RT\n",
      "pass: Sb9x_0U165lN0_YkomXdAI.Qp1P8nauMYrE_mOOK-Xrvc5CPd.LXFH-on3xvW.esSf3SkAJh97B-gSizdght9xnGKTI28G0nEYoJt-N4j12RBqXh0LYoHQBf7aSSXZEl\n",
      "\n"
     ]
    }
   ],
   "source": [
    "output = \"Key VCAP_SVCS values.\\n\\n\"\n",
    "output += 'host: ' + host + '\\n'\n",
    "output += 'port: ' + port + '\\n'\n",
    "output += 'schema: ' + schema + '\\n'\n",
    "output += 'user: ' + user + '\\n'\n",
    "output += 'pass: ' + password + '\\n'\n",
    "print(output)"
   ]
  },
  {
   "cell_type": "markdown",
   "metadata": {},
   "source": [
    "Taken from Doc: [End-to-End Example: Using the Python Client API for ML](https://help.sap.com/http.svc/rc/3f0dbe754b194c42a6bf3405697b711f/2.0.03/en-US/html/hana_ml.html#end-to-end-example-using-the-python-client-api-for-ml)\n",
    "\n",
    "\n",
    "#Step 1: Import the Python Client API Library and Dataframe Library\n",
    "```\n",
    "from hana_ml import dataframe\n",
    "```"
   ]
  },
  {
   "cell_type": "code",
   "execution_count": 75,
   "metadata": {},
   "outputs": [],
   "source": [
    "from hana_ml import dataframe"
   ]
  },
  {
   "cell_type": "markdown",
   "metadata": {},
   "source": [
    "#Step 2: Instantiate the Connection Object (conn)\n",
    "```\n",
    "conn = dataframe.ConnectionContext('<address>', <port>, '<user>','<password>')\n",
    "```"
   ]
  },
  {
   "cell_type": "code",
   "execution_count": 76,
   "metadata": {},
   "outputs": [],
   "source": [
    "hcc = dataframe.ConnectionContext(host, int(port), user, password)"
   ]
  },
  {
   "cell_type": "markdown",
   "metadata": {},
   "source": [
    "#Step 3: Create the HANA Dataframe (df_fit) and Point to the\n",
    "#\"DATA_TBL_RFT\" Table.\n",
    "```\n",
    "df_fit = conn.table(\"DATA_TBL_RFT\")\n",
    "```"
   ]
  },
  {
   "cell_type": "code",
   "execution_count": 77,
   "metadata": {},
   "outputs": [],
   "source": [
    "hdf = (hcc.table('mta_python_ml.db.data::digits.number', schema=schema))"
   ]
  },
  {
   "cell_type": "markdown",
   "metadata": {},
   "source": [
    "#Step 4: Inspect the Data\n",
    "```\n",
    "df_fit.head(4).collect()\n",
    "```\n",
    "Note that the collect method transforms the HANA DataFrame to a Pandas DataFrame."
   ]
  },
  {
   "cell_type": "code",
   "execution_count": 78,
   "metadata": {},
   "outputs": [
    {
     "data": {
      "text/html": [
       "<div>\n",
       "<style scoped>\n",
       "    .dataframe tbody tr th:only-of-type {\n",
       "        vertical-align: middle;\n",
       "    }\n",
       "\n",
       "    .dataframe tbody tr th {\n",
       "        vertical-align: top;\n",
       "    }\n",
       "\n",
       "    .dataframe thead th {\n",
       "        text-align: right;\n",
       "    }\n",
       "</style>\n",
       "<table border=\"1\" class=\"dataframe\">\n",
       "  <thead>\n",
       "    <tr style=\"text-align: right;\">\n",
       "      <th></th>\n",
       "      <th>numberId</th>\n",
       "      <th>image.r1.c1</th>\n",
       "      <th>image.r1.c2</th>\n",
       "      <th>image.r1.c3</th>\n",
       "      <th>image.r1.c4</th>\n",
       "      <th>image.r1.c5</th>\n",
       "      <th>image.r1.c6</th>\n",
       "      <th>image.r1.c7</th>\n",
       "      <th>image.r1.c8</th>\n",
       "      <th>image.r2.c1</th>\n",
       "      <th>...</th>\n",
       "      <th>image.r7.c8</th>\n",
       "      <th>image.r8.c1</th>\n",
       "      <th>image.r8.c2</th>\n",
       "      <th>image.r8.c3</th>\n",
       "      <th>image.r8.c4</th>\n",
       "      <th>image.r8.c5</th>\n",
       "      <th>image.r8.c6</th>\n",
       "      <th>image.r8.c7</th>\n",
       "      <th>image.r8.c8</th>\n",
       "      <th>target</th>\n",
       "    </tr>\n",
       "  </thead>\n",
       "  <tbody>\n",
       "    <tr>\n",
       "      <th>0</th>\n",
       "      <td>2</td>\n",
       "      <td>0</td>\n",
       "      <td>0</td>\n",
       "      <td>0</td>\n",
       "      <td>12</td>\n",
       "      <td>13</td>\n",
       "      <td>5</td>\n",
       "      <td>0</td>\n",
       "      <td>0</td>\n",
       "      <td>0</td>\n",
       "      <td>...</td>\n",
       "      <td>0</td>\n",
       "      <td>0</td>\n",
       "      <td>0</td>\n",
       "      <td>0</td>\n",
       "      <td>11</td>\n",
       "      <td>16</td>\n",
       "      <td>10</td>\n",
       "      <td>0</td>\n",
       "      <td>0</td>\n",
       "      <td>1</td>\n",
       "    </tr>\n",
       "    <tr>\n",
       "      <th>1</th>\n",
       "      <td>3</td>\n",
       "      <td>0</td>\n",
       "      <td>0</td>\n",
       "      <td>0</td>\n",
       "      <td>4</td>\n",
       "      <td>15</td>\n",
       "      <td>12</td>\n",
       "      <td>0</td>\n",
       "      <td>0</td>\n",
       "      <td>0</td>\n",
       "      <td>...</td>\n",
       "      <td>0</td>\n",
       "      <td>0</td>\n",
       "      <td>0</td>\n",
       "      <td>0</td>\n",
       "      <td>3</td>\n",
       "      <td>11</td>\n",
       "      <td>16</td>\n",
       "      <td>9</td>\n",
       "      <td>0</td>\n",
       "      <td>2</td>\n",
       "    </tr>\n",
       "    <tr>\n",
       "      <th>2</th>\n",
       "      <td>4</td>\n",
       "      <td>0</td>\n",
       "      <td>0</td>\n",
       "      <td>7</td>\n",
       "      <td>15</td>\n",
       "      <td>13</td>\n",
       "      <td>1</td>\n",
       "      <td>0</td>\n",
       "      <td>0</td>\n",
       "      <td>0</td>\n",
       "      <td>...</td>\n",
       "      <td>0</td>\n",
       "      <td>0</td>\n",
       "      <td>0</td>\n",
       "      <td>7</td>\n",
       "      <td>13</td>\n",
       "      <td>13</td>\n",
       "      <td>9</td>\n",
       "      <td>0</td>\n",
       "      <td>0</td>\n",
       "      <td>3</td>\n",
       "    </tr>\n",
       "    <tr>\n",
       "      <th>3</th>\n",
       "      <td>5</td>\n",
       "      <td>0</td>\n",
       "      <td>0</td>\n",
       "      <td>0</td>\n",
       "      <td>1</td>\n",
       "      <td>11</td>\n",
       "      <td>0</td>\n",
       "      <td>0</td>\n",
       "      <td>0</td>\n",
       "      <td>0</td>\n",
       "      <td>...</td>\n",
       "      <td>0</td>\n",
       "      <td>0</td>\n",
       "      <td>0</td>\n",
       "      <td>0</td>\n",
       "      <td>2</td>\n",
       "      <td>16</td>\n",
       "      <td>4</td>\n",
       "      <td>0</td>\n",
       "      <td>0</td>\n",
       "      <td>4</td>\n",
       "    </tr>\n",
       "  </tbody>\n",
       "</table>\n",
       "<p>4 rows × 66 columns</p>\n",
       "</div>"
      ],
      "text/plain": [
       "   numberId  image.r1.c1  image.r1.c2  image.r1.c3  image.r1.c4  image.r1.c5  \\\n",
       "0         2            0            0            0           12           13   \n",
       "1         3            0            0            0            4           15   \n",
       "2         4            0            0            7           15           13   \n",
       "3         5            0            0            0            1           11   \n",
       "\n",
       "   image.r1.c6  image.r1.c7  image.r1.c8  image.r2.c1   ...    image.r7.c8  \\\n",
       "0            5            0            0            0   ...              0   \n",
       "1           12            0            0            0   ...              0   \n",
       "2            1            0            0            0   ...              0   \n",
       "3            0            0            0            0   ...              0   \n",
       "\n",
       "   image.r8.c1  image.r8.c2  image.r8.c3  image.r8.c4  image.r8.c5  \\\n",
       "0            0            0            0           11           16   \n",
       "1            0            0            0            3           11   \n",
       "2            0            0            7           13           13   \n",
       "3            0            0            0            2           16   \n",
       "\n",
       "   image.r8.c6  image.r8.c7  image.r8.c8  target  \n",
       "0           10            0            0       1  \n",
       "1           16            9            0       2  \n",
       "2            9            0            0       3  \n",
       "3            4            0            0       4  \n",
       "\n",
       "[4 rows x 66 columns]"
      ]
     },
     "execution_count": 78,
     "metadata": {},
     "output_type": "execute_result"
    }
   ],
   "source": [
    "hdf.head(4).collect()"
   ]
  },
  {
   "cell_type": "markdown",
   "metadata": {},
   "source": [
    "If we want the raw image data(one per row) without the key(numberId) and target fields, then exclude them."
   ]
  },
  {
   "cell_type": "code",
   "execution_count": 79,
   "metadata": {},
   "outputs": [
    {
     "data": {
      "text/html": [
       "<div>\n",
       "<style scoped>\n",
       "    .dataframe tbody tr th:only-of-type {\n",
       "        vertical-align: middle;\n",
       "    }\n",
       "\n",
       "    .dataframe tbody tr th {\n",
       "        vertical-align: top;\n",
       "    }\n",
       "\n",
       "    .dataframe thead th {\n",
       "        text-align: right;\n",
       "    }\n",
       "</style>\n",
       "<table border=\"1\" class=\"dataframe\">\n",
       "  <thead>\n",
       "    <tr style=\"text-align: right;\">\n",
       "      <th></th>\n",
       "      <th>image.r1.c1</th>\n",
       "      <th>image.r1.c2</th>\n",
       "      <th>image.r1.c3</th>\n",
       "      <th>image.r1.c4</th>\n",
       "      <th>image.r1.c5</th>\n",
       "      <th>image.r1.c6</th>\n",
       "      <th>image.r1.c7</th>\n",
       "      <th>image.r1.c8</th>\n",
       "      <th>image.r2.c1</th>\n",
       "      <th>image.r2.c2</th>\n",
       "      <th>...</th>\n",
       "      <th>image.r7.c7</th>\n",
       "      <th>image.r7.c8</th>\n",
       "      <th>image.r8.c1</th>\n",
       "      <th>image.r8.c2</th>\n",
       "      <th>image.r8.c3</th>\n",
       "      <th>image.r8.c4</th>\n",
       "      <th>image.r8.c5</th>\n",
       "      <th>image.r8.c6</th>\n",
       "      <th>image.r8.c7</th>\n",
       "      <th>image.r8.c8</th>\n",
       "    </tr>\n",
       "  </thead>\n",
       "  <tbody>\n",
       "    <tr>\n",
       "      <th>0</th>\n",
       "      <td>0</td>\n",
       "      <td>0</td>\n",
       "      <td>0</td>\n",
       "      <td>12</td>\n",
       "      <td>13</td>\n",
       "      <td>5</td>\n",
       "      <td>0</td>\n",
       "      <td>0</td>\n",
       "      <td>0</td>\n",
       "      <td>0</td>\n",
       "      <td>...</td>\n",
       "      <td>0</td>\n",
       "      <td>0</td>\n",
       "      <td>0</td>\n",
       "      <td>0</td>\n",
       "      <td>0</td>\n",
       "      <td>11</td>\n",
       "      <td>16</td>\n",
       "      <td>10</td>\n",
       "      <td>0</td>\n",
       "      <td>0</td>\n",
       "    </tr>\n",
       "    <tr>\n",
       "      <th>1</th>\n",
       "      <td>0</td>\n",
       "      <td>0</td>\n",
       "      <td>0</td>\n",
       "      <td>4</td>\n",
       "      <td>15</td>\n",
       "      <td>12</td>\n",
       "      <td>0</td>\n",
       "      <td>0</td>\n",
       "      <td>0</td>\n",
       "      <td>0</td>\n",
       "      <td>...</td>\n",
       "      <td>5</td>\n",
       "      <td>0</td>\n",
       "      <td>0</td>\n",
       "      <td>0</td>\n",
       "      <td>0</td>\n",
       "      <td>3</td>\n",
       "      <td>11</td>\n",
       "      <td>16</td>\n",
       "      <td>9</td>\n",
       "      <td>0</td>\n",
       "    </tr>\n",
       "    <tr>\n",
       "      <th>2</th>\n",
       "      <td>0</td>\n",
       "      <td>0</td>\n",
       "      <td>7</td>\n",
       "      <td>15</td>\n",
       "      <td>13</td>\n",
       "      <td>1</td>\n",
       "      <td>0</td>\n",
       "      <td>0</td>\n",
       "      <td>0</td>\n",
       "      <td>8</td>\n",
       "      <td>...</td>\n",
       "      <td>9</td>\n",
       "      <td>0</td>\n",
       "      <td>0</td>\n",
       "      <td>0</td>\n",
       "      <td>7</td>\n",
       "      <td>13</td>\n",
       "      <td>13</td>\n",
       "      <td>9</td>\n",
       "      <td>0</td>\n",
       "      <td>0</td>\n",
       "    </tr>\n",
       "    <tr>\n",
       "      <th>3</th>\n",
       "      <td>0</td>\n",
       "      <td>0</td>\n",
       "      <td>0</td>\n",
       "      <td>1</td>\n",
       "      <td>11</td>\n",
       "      <td>0</td>\n",
       "      <td>0</td>\n",
       "      <td>0</td>\n",
       "      <td>0</td>\n",
       "      <td>0</td>\n",
       "      <td>...</td>\n",
       "      <td>0</td>\n",
       "      <td>0</td>\n",
       "      <td>0</td>\n",
       "      <td>0</td>\n",
       "      <td>0</td>\n",
       "      <td>2</td>\n",
       "      <td>16</td>\n",
       "      <td>4</td>\n",
       "      <td>0</td>\n",
       "      <td>0</td>\n",
       "    </tr>\n",
       "  </tbody>\n",
       "</table>\n",
       "<p>4 rows × 64 columns</p>\n",
       "</div>"
      ],
      "text/plain": [
       "   image.r1.c1  image.r1.c2  image.r1.c3  image.r1.c4  image.r1.c5  \\\n",
       "0            0            0            0           12           13   \n",
       "1            0            0            0            4           15   \n",
       "2            0            0            7           15           13   \n",
       "3            0            0            0            1           11   \n",
       "\n",
       "   image.r1.c6  image.r1.c7  image.r1.c8  image.r2.c1  image.r2.c2  \\\n",
       "0            5            0            0            0            0   \n",
       "1           12            0            0            0            0   \n",
       "2            1            0            0            0            8   \n",
       "3            0            0            0            0            0   \n",
       "\n",
       "      ...       image.r7.c7  image.r7.c8  image.r8.c1  image.r8.c2  \\\n",
       "0     ...                 0            0            0            0   \n",
       "1     ...                 5            0            0            0   \n",
       "2     ...                 9            0            0            0   \n",
       "3     ...                 0            0            0            0   \n",
       "\n",
       "   image.r8.c3  image.r8.c4  image.r8.c5  image.r8.c6  image.r8.c7  \\\n",
       "0            0           11           16           10            0   \n",
       "1            0            3           11           16            9   \n",
       "2            7           13           13            9            0   \n",
       "3            0            2           16            4            0   \n",
       "\n",
       "   image.r8.c8  \n",
       "0            0  \n",
       "1            0  \n",
       "2            0  \n",
       "3            0  \n",
       "\n",
       "[4 rows x 64 columns]"
      ]
     },
     "execution_count": 79,
     "metadata": {},
     "output_type": "execute_result"
    }
   ],
   "source": [
    "hdf.head(4).drop([\"numberId\",\"target\"]).collect()"
   ]
  },
  {
   "cell_type": "markdown",
   "metadata": {},
   "source": [
    "Tell the matplotlib to place it's output inline with the other notebook output."
   ]
  },
  {
   "cell_type": "code",
   "execution_count": 80,
   "metadata": {},
   "outputs": [],
   "source": [
    "%matplotlib inline"
   ]
  },
  {
   "cell_type": "markdown",
   "metadata": {},
   "source": [
    "Import the libs we'll need."
   ]
  },
  {
   "cell_type": "code",
   "execution_count": 81,
   "metadata": {},
   "outputs": [],
   "source": [
    "# Standard scientific Python imports\n",
    "import matplotlib.pyplot as plt\n",
    "import matplotlib.image as mpimg\n",
    "import numpy as np"
   ]
  },
  {
   "cell_type": "markdown",
   "metadata": {},
   "source": [
    "Let's plot out the first(zeroth) digit to prove that we are getting it from the HANA DB."
   ]
  },
  {
   "cell_type": "code",
   "execution_count": 82,
   "metadata": {},
   "outputs": [],
   "source": [
    "idx=0;"
   ]
  },
  {
   "cell_type": "code",
   "execution_count": 83,
   "metadata": {},
   "outputs": [],
   "source": [
    "#Set the upper left pixel to 16(black) to show that we can manipulate the data\n",
    "#UPDATE \"mta_python_ml.db.data::digits.number\" SET \"image.r1.c1\" = 16 WHERE \"numberId\" = 1"
   ]
  },
  {
   "cell_type": "markdown",
   "metadata": {},
   "source": [
    "Create a \"where\" clause in order to retrieve just one record."
   ]
  },
  {
   "cell_type": "code",
   "execution_count": 84,
   "metadata": {},
   "outputs": [],
   "source": [
    "where = '\"numberId\" = ' + str(idx+1)"
   ]
  },
  {
   "cell_type": "markdown",
   "metadata": {},
   "source": [
    "Create a pandas DataFrame by selecting a single row without the \"numberId\",\"target\" columns."
   ]
  },
  {
   "cell_type": "markdown",
   "metadata": {},
   "source": [
    "# Note that once you bring the data into a pandas DataFrame, you have brought it into the application layer.  If you continue to work with it or derive things from it and work with them, you are wholly in the application layer and will need the memory resources to perform the operations.\n",
    "\n",
    "# Ideally you will want to use the hana_ml functions instead of the sklearn functions so that the data remains in the DB layer and is not transferred to the application layer."
   ]
  },
  {
   "cell_type": "code",
   "execution_count": 85,
   "metadata": {},
   "outputs": [],
   "source": [
    "pdfimg = hdf.head(1).filter(where).drop([\"numberId\",\"target\"]).collect()"
   ]
  },
  {
   "cell_type": "markdown",
   "metadata": {},
   "source": [
    "Create a pandas DataFrame by selecting just the \"target\" column."
   ]
  },
  {
   "cell_type": "code",
   "execution_count": 86,
   "metadata": {},
   "outputs": [],
   "source": [
    "pdfval = hdf.head(1).filter(where).select([\"target\"]).collect()"
   ]
  },
  {
   "cell_type": "markdown",
   "metadata": {},
   "source": [
    "The result is a 2 dimentional array, grab the upper-left(only) value"
   ]
  },
  {
   "cell_type": "code",
   "execution_count": 87,
   "metadata": {},
   "outputs": [],
   "source": [
    "target = pdfval.iat[0,0]"
   ]
  },
  {
   "cell_type": "code",
   "execution_count": 88,
   "metadata": {},
   "outputs": [],
   "source": [
    "#If you're ever unsure what is returned, check it's type.\n",
    "#print(type(pdfval.iat[0,0]))"
   ]
  },
  {
   "cell_type": "markdown",
   "metadata": {},
   "source": [
    "Since the data is in one sequence of 64 integers, convert it to an 8x8 2-dimentional array"
   ]
  },
  {
   "cell_type": "code",
   "execution_count": 89,
   "metadata": {},
   "outputs": [],
   "source": [
    "img = np.reshape(pdfimg.values, (-1, 8)) # Convert 1X64 to 8x8"
   ]
  },
  {
   "cell_type": "markdown",
   "metadata": {},
   "source": [
    "Print out it's values in a grid."
   ]
  },
  {
   "cell_type": "code",
   "execution_count": 90,
   "metadata": {},
   "outputs": [
    {
     "name": "stdout",
     "output_type": "stream",
     "text": [
      "[[16  0  5 13  9  1  0  0]\n",
      " [ 0  0 13 15 10 15  5  0]\n",
      " [ 0  3 15  2  0 11  8  0]\n",
      " [ 0  4 12  0  0  8  8  0]\n",
      " [ 0  5  8  0  0  9  8  0]\n",
      " [ 0  4 11  0  1 12  7  0]\n",
      " [ 0  2 14  5 10 12  0  0]\n",
      " [ 0  0  6 13 10  0  0  0]]\n"
     ]
    }
   ],
   "source": [
    "print(img)"
   ]
  },
  {
   "cell_type": "markdown",
   "metadata": {},
   "source": [
    "Now display it as a bitmap by using the mtplotlib library."
   ]
  },
  {
   "cell_type": "markdown",
   "metadata": {},
   "source": [
    "Notice the upper-left dot we set before."
   ]
  },
  {
   "cell_type": "code",
   "execution_count": 91,
   "metadata": {},
   "outputs": [
    {
     "data": {
      "text/plain": [
       "Text(0.5, 1.0, 'Training: 0')"
      ]
     },
     "execution_count": 91,
     "metadata": {},
     "output_type": "execute_result"
    },
    {
     "data": {
      "image/png": "[encoded data removed]",
      "text/plain": [
       "<Figure size 432x288 with 1 Axes>"
      ]
     },
     "metadata": {
      "needs_background": "light"
     },
     "output_type": "display_data"
    }
   ],
   "source": [
    "plt.subplot(2, 4, 1 + 1)\n",
    "plt.axis('off')\n",
    "plt.imshow(img, cmap=plt.cm.gray_r, interpolation='nearest')\n",
    "plt.title('Training: %i' % target)"
   ]
  },
  {
   "cell_type": "code",
   "execution_count": 92,
   "metadata": {},
   "outputs": [],
   "source": [
    "# Standard scientific Python imports\n",
    "import matplotlib.pyplot as plt"
   ]
  },
  {
   "cell_type": "code",
   "execution_count": 93,
   "metadata": {},
   "outputs": [],
   "source": [
    "# Import datasets\n",
    "#from sklearn import datasets"
   ]
  },
  {
   "cell_type": "code",
   "execution_count": 94,
   "metadata": {},
   "outputs": [],
   "source": [
    "# The digits dataset\n",
    "#digits = datasets.load_digits()\n",
    "#print(type(digits))"
   ]
  },
  {
   "cell_type": "code",
   "execution_count": 95,
   "metadata": {},
   "outputs": [
    {
     "name": "stdout",
     "output_type": "stream",
     "text": [
      "<class 'pandas.core.frame.DataFrame'>\n"
     ]
    }
   ],
   "source": [
    "pdfimg = hdf.drop([\"numberId\",\"target\"]).collect()\n",
    "print(type(pdfimg))"
   ]
  },
  {
   "cell_type": "code",
   "execution_count": 96,
   "metadata": {},
   "outputs": [],
   "source": [
    "#digits.images"
   ]
  },
  {
   "cell_type": "code",
   "execution_count": 97,
   "metadata": {},
   "outputs": [],
   "source": [
    "#len(digits.images)"
   ]
  },
  {
   "cell_type": "code",
   "execution_count": 98,
   "metadata": {},
   "outputs": [
    {
     "data": {
      "text/plain": [
       "1797"
      ]
     },
     "execution_count": 98,
     "metadata": {},
     "output_type": "execute_result"
    }
   ],
   "source": [
    "len(pdfimg.values)"
   ]
  },
  {
   "cell_type": "code",
   "execution_count": 99,
   "metadata": {},
   "outputs": [],
   "source": [
    "#digits.images.shape"
   ]
  },
  {
   "cell_type": "code",
   "execution_count": 100,
   "metadata": {},
   "outputs": [
    {
     "data": {
      "text/plain": [
       "(1797, 64)"
      ]
     },
     "execution_count": 100,
     "metadata": {},
     "output_type": "execute_result"
    }
   ],
   "source": [
    "pdfimg.values.shape"
   ]
  },
  {
   "cell_type": "code",
   "execution_count": 101,
   "metadata": {},
   "outputs": [],
   "source": [
    "# Import classifiers and performance metrics\n",
    "from sklearn import svm, metrics"
   ]
  },
  {
   "cell_type": "code",
   "execution_count": 102,
   "metadata": {},
   "outputs": [],
   "source": [
    "# To apply a classifier on this data, we need to flatten the image, to\n",
    "# turn the data in a (samples, feature) matrix:\n",
    "#n_samples = len(digits.images)\n",
    "#data = digits.images.reshape((n_samples, -1))"
   ]
  },
  {
   "cell_type": "code",
   "execution_count": 103,
   "metadata": {},
   "outputs": [],
   "source": [
    "#n_samples"
   ]
  },
  {
   "cell_type": "code",
   "execution_count": 104,
   "metadata": {},
   "outputs": [],
   "source": [
    "#data.shape"
   ]
  },
  {
   "cell_type": "code",
   "execution_count": 105,
   "metadata": {},
   "outputs": [],
   "source": [
    "# To apply a classifier on this data, we need to flatten the image, to\n",
    "# turn the data in a (samples, feature) matrix:\n",
    "n_samples = len(pdfimg.values)\n",
    "data = pdfimg.values.reshape((n_samples, -1))"
   ]
  },
  {
   "cell_type": "code",
   "execution_count": 106,
   "metadata": {},
   "outputs": [
    {
     "data": {
      "text/plain": [
       "1797"
      ]
     },
     "execution_count": 106,
     "metadata": {},
     "output_type": "execute_result"
    }
   ],
   "source": [
    "n_samples"
   ]
  },
  {
   "cell_type": "code",
   "execution_count": 107,
   "metadata": {},
   "outputs": [
    {
     "data": {
      "text/plain": [
       "(1797, 64)"
      ]
     },
     "execution_count": 107,
     "metadata": {},
     "output_type": "execute_result"
    }
   ],
   "source": [
    "data.shape"
   ]
  },
  {
   "cell_type": "code",
   "execution_count": 108,
   "metadata": {},
   "outputs": [],
   "source": [
    "# Create a classifier: a support vector classifier\n",
    "classifier = svm.SVC(gamma=0.001)\n"
   ]
  },
  {
   "cell_type": "code",
   "execution_count": 109,
   "metadata": {},
   "outputs": [],
   "source": [
    "#digits.target"
   ]
  },
  {
   "cell_type": "code",
   "execution_count": 110,
   "metadata": {},
   "outputs": [],
   "source": [
    "#digits.target.shape"
   ]
  },
  {
   "cell_type": "code",
   "execution_count": 111,
   "metadata": {},
   "outputs": [],
   "source": [
    "#len(digits.target)"
   ]
  },
  {
   "cell_type": "code",
   "execution_count": 112,
   "metadata": {},
   "outputs": [
    {
     "name": "stdout",
     "output_type": "stream",
     "text": [
      "<class 'pandas.core.frame.DataFrame'>\n"
     ]
    }
   ],
   "source": [
    "pdfval = hdf.select([\"target\"]).collect()\n",
    "print(type(pdfval))"
   ]
  },
  {
   "cell_type": "code",
   "execution_count": 113,
   "metadata": {},
   "outputs": [
    {
     "data": {
      "text/plain": [
       "(1797, 1)"
      ]
     },
     "execution_count": 113,
     "metadata": {},
     "output_type": "execute_result"
    }
   ],
   "source": [
    "pdfval.values.shape"
   ]
  },
  {
   "cell_type": "code",
   "execution_count": 114,
   "metadata": {},
   "outputs": [],
   "source": [
    "target = pdfval.values.reshape((-1))"
   ]
  },
  {
   "cell_type": "code",
   "execution_count": 115,
   "metadata": {},
   "outputs": [
    {
     "data": {
      "text/plain": [
       "array([1, 2, 3, ..., 9, 8, 0])"
      ]
     },
     "execution_count": 115,
     "metadata": {},
     "output_type": "execute_result"
    }
   ],
   "source": [
    "target"
   ]
  },
  {
   "cell_type": "code",
   "execution_count": 116,
   "metadata": {},
   "outputs": [
    {
     "data": {
      "text/plain": [
       "(1797,)"
      ]
     },
     "execution_count": 116,
     "metadata": {},
     "output_type": "execute_result"
    }
   ],
   "source": [
    "target.shape"
   ]
  },
  {
   "cell_type": "code",
   "execution_count": 117,
   "metadata": {},
   "outputs": [
    {
     "data": {
      "text/plain": [
       "1797"
      ]
     },
     "execution_count": 117,
     "metadata": {},
     "output_type": "execute_result"
    }
   ],
   "source": [
    "len(target)"
   ]
  },
  {
   "cell_type": "code",
   "execution_count": 118,
   "metadata": {},
   "outputs": [],
   "source": [
    "data = pdfimg.values.reshape((-1, 64))"
   ]
  },
  {
   "cell_type": "code",
   "execution_count": 119,
   "metadata": {},
   "outputs": [
    {
     "data": {
      "text/plain": [
       "(1797, 64)"
      ]
     },
     "execution_count": 119,
     "metadata": {},
     "output_type": "execute_result"
    }
   ],
   "source": [
    "data.shape"
   ]
  },
  {
   "cell_type": "code",
   "execution_count": 120,
   "metadata": {},
   "outputs": [],
   "source": [
    "# We learn the digits on the first half of the digits"
   ]
  },
  {
   "cell_type": "code",
   "execution_count": 121,
   "metadata": {},
   "outputs": [],
   "source": [
    "#classifier.fit(data[:n_samples // 2], digits.target[:n_samples // 2])"
   ]
  },
  {
   "cell_type": "code",
   "execution_count": 122,
   "metadata": {},
   "outputs": [],
   "source": [
    "import sys"
   ]
  },
  {
   "cell_type": "code",
   "execution_count": 123,
   "metadata": {},
   "outputs": [],
   "source": [
    "import time"
   ]
  },
  {
   "cell_type": "code",
   "execution_count": 124,
   "metadata": {},
   "outputs": [],
   "source": [
    "start_time = time.time()\n",
    "classifier.fit(data[:n_samples // 2], target[:n_samples // 2])\n",
    "elapsed = 'Fitting Time: {} seconds'.format(time.time() - start_time)"
   ]
  },
  {
   "cell_type": "code",
   "execution_count": 125,
   "metadata": {},
   "outputs": [
    {
     "name": "stdout",
     "output_type": "stream",
     "text": [
      "Fitting Time: 0.06307101249694824 seconds\n"
     ]
    }
   ],
   "source": [
    "print(elapsed)"
   ]
  },
  {
   "cell_type": "code",
   "execution_count": 126,
   "metadata": {},
   "outputs": [
    {
     "name": "stdout",
     "output_type": "stream",
     "text": [
      "Classification report for classifier SVC(C=1.0, cache_size=200, class_weight=None, coef0=0.0,\n",
      "  decision_function_shape='ovr', degree=3, gamma=0.001, kernel='rbf',\n",
      "  max_iter=-1, probability=False, random_state=None, shrinking=True,\n",
      "  tol=0.001, verbose=False):\n",
      "\n",
      "              precision    recall  f1-score   support\n",
      "\n",
      "           0       1.00      0.99      0.99        89\n",
      "           1       0.99      0.97      0.98        91\n",
      "           2       0.99      0.99      0.99        86\n",
      "           3       0.98      0.87      0.92        91\n",
      "           4       0.99      0.96      0.97        92\n",
      "           5       0.95      0.97      0.96        91\n",
      "           6       0.99      0.99      0.99        91\n",
      "           7       0.96      0.99      0.97        89\n",
      "           8       0.94      1.00      0.97        87\n",
      "           9       0.93      0.98      0.95        92\n",
      "\n",
      "   micro avg       0.97      0.97      0.97       899\n",
      "   macro avg       0.97      0.97      0.97       899\n",
      "weighted avg       0.97      0.97      0.97       899\n",
      "\n",
      "\n",
      "Confusion matrix:\n",
      "[[88  0  0  0  1  0  0  0  0  0]\n",
      " [ 0 88  1  0  0  0  0  0  1  1]\n",
      " [ 0  0 85  1  0  0  0  0  0  0]\n",
      " [ 0  0  0 79  0  3  0  4  5  0]\n",
      " [ 0  0  0  0 88  0  0  0  0  4]\n",
      " [ 0  0  0  0  0 88  1  0  0  2]\n",
      " [ 0  1  0  0  0  0 90  0  0  0]\n",
      " [ 0  0  0  0  0  1  0 88  0  0]\n",
      " [ 0  0  0  0  0  0  0  0 87  0]\n",
      " [ 0  0  0  1  0  1  0  0  0 90]]\n"
     ]
    }
   ],
   "source": [
    "# Now predict the value of the digit on the second half:\n",
    "#expected = digits.target[n_samples // 2:]\n",
    "expected = target[n_samples // 2:]\n",
    "start_time = time.time()\n",
    "predicted = classifier.predict(data[n_samples // 2:])\n",
    "elapsed = 'Classify Time: {} seconds'.format(time.time() - start_time)\n",
    "print(\"Classification report for classifier %s:\\n\\n%s\\n\"\n",
    "      % (classifier, metrics.classification_report(expected, predicted)))\n",
    "print(\"Confusion matrix:\\n%s\" % metrics.confusion_matrix(expected, predicted))"
   ]
  },
  {
   "cell_type": "code",
   "execution_count": 127,
   "metadata": {},
   "outputs": [
    {
     "name": "stdout",
     "output_type": "stream",
     "text": [
      "Classify Time: 0.044019222259521484 seconds\n"
     ]
    }
   ],
   "source": [
    "print(elapsed)"
   ]
  },
  {
   "cell_type": "code",
   "execution_count": 128,
   "metadata": {},
   "outputs": [],
   "source": [
    "#digits.images.shape"
   ]
  },
  {
   "cell_type": "code",
   "execution_count": 129,
   "metadata": {},
   "outputs": [
    {
     "data": {
      "text/plain": [
       "(1797, 64)"
      ]
     },
     "execution_count": 129,
     "metadata": {},
     "output_type": "execute_result"
    }
   ],
   "source": [
    "data.shape"
   ]
  },
  {
   "cell_type": "code",
   "execution_count": 130,
   "metadata": {},
   "outputs": [],
   "source": [
    "data = pdfimg.values.reshape((-1, 8, 8))"
   ]
  },
  {
   "cell_type": "code",
   "execution_count": 131,
   "metadata": {},
   "outputs": [
    {
     "data": {
      "text/plain": [
       "(1797, 8, 8)"
      ]
     },
     "execution_count": 131,
     "metadata": {},
     "output_type": "execute_result"
    }
   ],
   "source": [
    "data.shape"
   ]
  },
  {
   "cell_type": "code",
   "execution_count": 132,
   "metadata": {},
   "outputs": [
    {
     "data": {
      "image/png": "[encoded data removed]",
      "text/plain": [
       "<Figure size 432x288 with 4 Axes>"
      ]
     },
     "metadata": {
      "needs_background": "light"
     },
     "output_type": "display_data"
    }
   ],
   "source": [
    "#images_and_predictions = list(zip(digits.images[n_samples // 2:], predicted))\n",
    "images_and_predictions = list(zip(data[n_samples // 2:], predicted))\n",
    "for index, (image, prediction) in enumerate(images_and_predictions[:4]):\n",
    "    plt.subplot(2, 4, index + 5)\n",
    "    plt.axis('off')\n",
    "    plt.imshow(image, cmap=plt.cm.gray_r, interpolation='nearest')\n",
    "    plt.title('Prediction: %i' % prediction)\n",
    "\n",
    "plt.show()"
   ]
  }
 ],
 "metadata": {
  "kernelspec": {
   "display_name": "Python 3",
   "language": "python",
   "name": "python3"
  },
  "language_info": {
   "codemirror_mode": {
    "name": "ipython",
    "version": 3
   },
   "file_extension": ".py",
   "mimetype": "text/x-python",
   "name": "python",
   "nbconvert_exporter": "python",
   "pygments_lexer": "ipython3",
   "version": "3.6.5"
  }
 },
 "nbformat": 4,
 "nbformat_minor": 1
}
